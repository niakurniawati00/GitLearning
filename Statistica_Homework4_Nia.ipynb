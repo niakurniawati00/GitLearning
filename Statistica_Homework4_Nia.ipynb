{
  "nbformat": 4,
  "nbformat_minor": 0,
  "metadata": {
    "colab": {
      "provenance": [],
      "authorship_tag": "ABX9TyNAT/ATYNUDG3OHLeYSN0aI",
      "include_colab_link": true
    },
    "kernelspec": {
      "name": "python3",
      "display_name": "Python 3"
    },
    "language_info": {
      "name": "python"
    }
  },
  "cells": [
    {
      "cell_type": "markdown",
      "metadata": {
        "id": "view-in-github",
        "colab_type": "text"
      },
      "source": [
        "<a href=\"https://colab.research.google.com/github/niakurniawati00/GitLearning/blob/main/Statistica_Homework4_Nia.ipynb\" target=\"_parent\"><img src=\"https://colab.research.google.com/assets/colab-badge.svg\" alt=\"Open In Colab\"/></a>"
      ]
    },
    {
      "cell_type": "code",
      "execution_count": null,
      "metadata": {
        "id": "sGTT0xkTAevu"
      },
      "outputs": [],
      "source": [
        "import pandas as pd\n",
        "import numpy as np\n",
        "import matplotlib.pyplot as plt\n",
        "from scipy import stats\n",
        "rng = np.random.default_rng()"
      ]
    },
    {
      "cell_type": "code",
      "source": [
        "df = pd.read_csv('/content/Homework 4 - Advanced Statistics.csv')"
      ],
      "metadata": {
        "id": "worRs7TxBbOi"
      },
      "execution_count": null,
      "outputs": []
    },
    {
      "cell_type": "code",
      "source": [
        "df.head()"
      ],
      "metadata": {
        "id": "AE8Z9fGUBvan",
        "outputId": "aa71cf24-d9e1-4168-bbee-14ba64ec4340",
        "colab": {
          "base_uri": "https://localhost:8080/",
          "height": 206
        }
      },
      "execution_count": null,
      "outputs": [
        {
          "output_type": "execute_result",
          "data": {
            "text/plain": [
              "   custid  sex  AqChannel  region  Marital_status  segment  pre_usage  \\\n",
              "0      70    0          4       1               1        1         57   \n",
              "1     121    1          4       2               1        3         68   \n",
              "2      86    0          4       3               1        1         44   \n",
              "3     141    0          4       3               1        3         63   \n",
              "4     172    0          4       2               1        2         47   \n",
              "\n",
              "   Post_usage_1month  Latest_mon_usage  post_usage_2ndmonth  \n",
              "0                 52              49.2                 57.2  \n",
              "1                 59              63.6                 64.9  \n",
              "2                 33              64.8                 36.3  \n",
              "3                 44              56.4                 48.4  \n",
              "4                 52              68.4                 57.2  "
            ],
            "text/html": [
              "\n",
              "  <div id=\"df-baf2c51f-dafa-4cfc-9932-9ebb67507460\" class=\"colab-df-container\">\n",
              "    <div>\n",
              "<style scoped>\n",
              "    .dataframe tbody tr th:only-of-type {\n",
              "        vertical-align: middle;\n",
              "    }\n",
              "\n",
              "    .dataframe tbody tr th {\n",
              "        vertical-align: top;\n",
              "    }\n",
              "\n",
              "    .dataframe thead th {\n",
              "        text-align: right;\n",
              "    }\n",
              "</style>\n",
              "<table border=\"1\" class=\"dataframe\">\n",
              "  <thead>\n",
              "    <tr style=\"text-align: right;\">\n",
              "      <th></th>\n",
              "      <th>custid</th>\n",
              "      <th>sex</th>\n",
              "      <th>AqChannel</th>\n",
              "      <th>region</th>\n",
              "      <th>Marital_status</th>\n",
              "      <th>segment</th>\n",
              "      <th>pre_usage</th>\n",
              "      <th>Post_usage_1month</th>\n",
              "      <th>Latest_mon_usage</th>\n",
              "      <th>post_usage_2ndmonth</th>\n",
              "    </tr>\n",
              "  </thead>\n",
              "  <tbody>\n",
              "    <tr>\n",
              "      <th>0</th>\n",
              "      <td>70</td>\n",
              "      <td>0</td>\n",
              "      <td>4</td>\n",
              "      <td>1</td>\n",
              "      <td>1</td>\n",
              "      <td>1</td>\n",
              "      <td>57</td>\n",
              "      <td>52</td>\n",
              "      <td>49.2</td>\n",
              "      <td>57.2</td>\n",
              "    </tr>\n",
              "    <tr>\n",
              "      <th>1</th>\n",
              "      <td>121</td>\n",
              "      <td>1</td>\n",
              "      <td>4</td>\n",
              "      <td>2</td>\n",
              "      <td>1</td>\n",
              "      <td>3</td>\n",
              "      <td>68</td>\n",
              "      <td>59</td>\n",
              "      <td>63.6</td>\n",
              "      <td>64.9</td>\n",
              "    </tr>\n",
              "    <tr>\n",
              "      <th>2</th>\n",
              "      <td>86</td>\n",
              "      <td>0</td>\n",
              "      <td>4</td>\n",
              "      <td>3</td>\n",
              "      <td>1</td>\n",
              "      <td>1</td>\n",
              "      <td>44</td>\n",
              "      <td>33</td>\n",
              "      <td>64.8</td>\n",
              "      <td>36.3</td>\n",
              "    </tr>\n",
              "    <tr>\n",
              "      <th>3</th>\n",
              "      <td>141</td>\n",
              "      <td>0</td>\n",
              "      <td>4</td>\n",
              "      <td>3</td>\n",
              "      <td>1</td>\n",
              "      <td>3</td>\n",
              "      <td>63</td>\n",
              "      <td>44</td>\n",
              "      <td>56.4</td>\n",
              "      <td>48.4</td>\n",
              "    </tr>\n",
              "    <tr>\n",
              "      <th>4</th>\n",
              "      <td>172</td>\n",
              "      <td>0</td>\n",
              "      <td>4</td>\n",
              "      <td>2</td>\n",
              "      <td>1</td>\n",
              "      <td>2</td>\n",
              "      <td>47</td>\n",
              "      <td>52</td>\n",
              "      <td>68.4</td>\n",
              "      <td>57.2</td>\n",
              "    </tr>\n",
              "  </tbody>\n",
              "</table>\n",
              "</div>\n",
              "    <div class=\"colab-df-buttons\">\n",
              "\n",
              "  <div class=\"colab-df-container\">\n",
              "    <button class=\"colab-df-convert\" onclick=\"convertToInteractive('df-baf2c51f-dafa-4cfc-9932-9ebb67507460')\"\n",
              "            title=\"Convert this dataframe to an interactive table.\"\n",
              "            style=\"display:none;\">\n",
              "\n",
              "  <svg xmlns=\"http://www.w3.org/2000/svg\" height=\"24px\" viewBox=\"0 -960 960 960\">\n",
              "    <path d=\"M120-120v-720h720v720H120Zm60-500h600v-160H180v160Zm220 220h160v-160H400v160Zm0 220h160v-160H400v160ZM180-400h160v-160H180v160Zm440 0h160v-160H620v160ZM180-180h160v-160H180v160Zm440 0h160v-160H620v160Z\"/>\n",
              "  </svg>\n",
              "    </button>\n",
              "\n",
              "  <style>\n",
              "    .colab-df-container {\n",
              "      display:flex;\n",
              "      gap: 12px;\n",
              "    }\n",
              "\n",
              "    .colab-df-convert {\n",
              "      background-color: #E8F0FE;\n",
              "      border: none;\n",
              "      border-radius: 50%;\n",
              "      cursor: pointer;\n",
              "      display: none;\n",
              "      fill: #1967D2;\n",
              "      height: 32px;\n",
              "      padding: 0 0 0 0;\n",
              "      width: 32px;\n",
              "    }\n",
              "\n",
              "    .colab-df-convert:hover {\n",
              "      background-color: #E2EBFA;\n",
              "      box-shadow: 0px 1px 2px rgba(60, 64, 67, 0.3), 0px 1px 3px 1px rgba(60, 64, 67, 0.15);\n",
              "      fill: #174EA6;\n",
              "    }\n",
              "\n",
              "    .colab-df-buttons div {\n",
              "      margin-bottom: 4px;\n",
              "    }\n",
              "\n",
              "    [theme=dark] .colab-df-convert {\n",
              "      background-color: #3B4455;\n",
              "      fill: #D2E3FC;\n",
              "    }\n",
              "\n",
              "    [theme=dark] .colab-df-convert:hover {\n",
              "      background-color: #434B5C;\n",
              "      box-shadow: 0px 1px 3px 1px rgba(0, 0, 0, 0.15);\n",
              "      filter: drop-shadow(0px 1px 2px rgba(0, 0, 0, 0.3));\n",
              "      fill: #FFFFFF;\n",
              "    }\n",
              "  </style>\n",
              "\n",
              "    <script>\n",
              "      const buttonEl =\n",
              "        document.querySelector('#df-baf2c51f-dafa-4cfc-9932-9ebb67507460 button.colab-df-convert');\n",
              "      buttonEl.style.display =\n",
              "        google.colab.kernel.accessAllowed ? 'block' : 'none';\n",
              "\n",
              "      async function convertToInteractive(key) {\n",
              "        const element = document.querySelector('#df-baf2c51f-dafa-4cfc-9932-9ebb67507460');\n",
              "        const dataTable =\n",
              "          await google.colab.kernel.invokeFunction('convertToInteractive',\n",
              "                                                    [key], {});\n",
              "        if (!dataTable) return;\n",
              "\n",
              "        const docLinkHtml = 'Like what you see? Visit the ' +\n",
              "          '<a target=\"_blank\" href=https://colab.research.google.com/notebooks/data_table.ipynb>data table notebook</a>'\n",
              "          + ' to learn more about interactive tables.';\n",
              "        element.innerHTML = '';\n",
              "        dataTable['output_type'] = 'display_data';\n",
              "        await google.colab.output.renderOutput(dataTable, element);\n",
              "        const docLink = document.createElement('div');\n",
              "        docLink.innerHTML = docLinkHtml;\n",
              "        element.appendChild(docLink);\n",
              "      }\n",
              "    </script>\n",
              "  </div>\n",
              "\n",
              "\n",
              "<div id=\"df-96e7e1e1-ec42-4513-bde7-2254001a9798\">\n",
              "  <button class=\"colab-df-quickchart\" onclick=\"quickchart('df-96e7e1e1-ec42-4513-bde7-2254001a9798')\"\n",
              "            title=\"Suggest charts\"\n",
              "            style=\"display:none;\">\n",
              "\n",
              "<svg xmlns=\"http://www.w3.org/2000/svg\" height=\"24px\"viewBox=\"0 0 24 24\"\n",
              "     width=\"24px\">\n",
              "    <g>\n",
              "        <path d=\"M19 3H5c-1.1 0-2 .9-2 2v14c0 1.1.9 2 2 2h14c1.1 0 2-.9 2-2V5c0-1.1-.9-2-2-2zM9 17H7v-7h2v7zm4 0h-2V7h2v10zm4 0h-2v-4h2v4z\"/>\n",
              "    </g>\n",
              "</svg>\n",
              "  </button>\n",
              "\n",
              "<style>\n",
              "  .colab-df-quickchart {\n",
              "      --bg-color: #E8F0FE;\n",
              "      --fill-color: #1967D2;\n",
              "      --hover-bg-color: #E2EBFA;\n",
              "      --hover-fill-color: #174EA6;\n",
              "      --disabled-fill-color: #AAA;\n",
              "      --disabled-bg-color: #DDD;\n",
              "  }\n",
              "\n",
              "  [theme=dark] .colab-df-quickchart {\n",
              "      --bg-color: #3B4455;\n",
              "      --fill-color: #D2E3FC;\n",
              "      --hover-bg-color: #434B5C;\n",
              "      --hover-fill-color: #FFFFFF;\n",
              "      --disabled-bg-color: #3B4455;\n",
              "      --disabled-fill-color: #666;\n",
              "  }\n",
              "\n",
              "  .colab-df-quickchart {\n",
              "    background-color: var(--bg-color);\n",
              "    border: none;\n",
              "    border-radius: 50%;\n",
              "    cursor: pointer;\n",
              "    display: none;\n",
              "    fill: var(--fill-color);\n",
              "    height: 32px;\n",
              "    padding: 0;\n",
              "    width: 32px;\n",
              "  }\n",
              "\n",
              "  .colab-df-quickchart:hover {\n",
              "    background-color: var(--hover-bg-color);\n",
              "    box-shadow: 0 1px 2px rgba(60, 64, 67, 0.3), 0 1px 3px 1px rgba(60, 64, 67, 0.15);\n",
              "    fill: var(--button-hover-fill-color);\n",
              "  }\n",
              "\n",
              "  .colab-df-quickchart-complete:disabled,\n",
              "  .colab-df-quickchart-complete:disabled:hover {\n",
              "    background-color: var(--disabled-bg-color);\n",
              "    fill: var(--disabled-fill-color);\n",
              "    box-shadow: none;\n",
              "  }\n",
              "\n",
              "  .colab-df-spinner {\n",
              "    border: 2px solid var(--fill-color);\n",
              "    border-color: transparent;\n",
              "    border-bottom-color: var(--fill-color);\n",
              "    animation:\n",
              "      spin 1s steps(1) infinite;\n",
              "  }\n",
              "\n",
              "  @keyframes spin {\n",
              "    0% {\n",
              "      border-color: transparent;\n",
              "      border-bottom-color: var(--fill-color);\n",
              "      border-left-color: var(--fill-color);\n",
              "    }\n",
              "    20% {\n",
              "      border-color: transparent;\n",
              "      border-left-color: var(--fill-color);\n",
              "      border-top-color: var(--fill-color);\n",
              "    }\n",
              "    30% {\n",
              "      border-color: transparent;\n",
              "      border-left-color: var(--fill-color);\n",
              "      border-top-color: var(--fill-color);\n",
              "      border-right-color: var(--fill-color);\n",
              "    }\n",
              "    40% {\n",
              "      border-color: transparent;\n",
              "      border-right-color: var(--fill-color);\n",
              "      border-top-color: var(--fill-color);\n",
              "    }\n",
              "    60% {\n",
              "      border-color: transparent;\n",
              "      border-right-color: var(--fill-color);\n",
              "    }\n",
              "    80% {\n",
              "      border-color: transparent;\n",
              "      border-right-color: var(--fill-color);\n",
              "      border-bottom-color: var(--fill-color);\n",
              "    }\n",
              "    90% {\n",
              "      border-color: transparent;\n",
              "      border-bottom-color: var(--fill-color);\n",
              "    }\n",
              "  }\n",
              "</style>\n",
              "\n",
              "  <script>\n",
              "    async function quickchart(key) {\n",
              "      const quickchartButtonEl =\n",
              "        document.querySelector('#' + key + ' button');\n",
              "      quickchartButtonEl.disabled = true;  // To prevent multiple clicks.\n",
              "      quickchartButtonEl.classList.add('colab-df-spinner');\n",
              "      try {\n",
              "        const charts = await google.colab.kernel.invokeFunction(\n",
              "            'suggestCharts', [key], {});\n",
              "      } catch (error) {\n",
              "        console.error('Error during call to suggestCharts:', error);\n",
              "      }\n",
              "      quickchartButtonEl.classList.remove('colab-df-spinner');\n",
              "      quickchartButtonEl.classList.add('colab-df-quickchart-complete');\n",
              "    }\n",
              "    (() => {\n",
              "      let quickchartButtonEl =\n",
              "        document.querySelector('#df-96e7e1e1-ec42-4513-bde7-2254001a9798 button');\n",
              "      quickchartButtonEl.style.display =\n",
              "        google.colab.kernel.accessAllowed ? 'block' : 'none';\n",
              "    })();\n",
              "  </script>\n",
              "</div>\n",
              "\n",
              "    </div>\n",
              "  </div>\n"
            ],
            "application/vnd.google.colaboratory.intrinsic+json": {
              "type": "dataframe",
              "variable_name": "df",
              "summary": "{\n  \"name\": \"df\",\n  \"rows\": 200,\n  \"fields\": [\n    {\n      \"column\": \"custid\",\n      \"properties\": {\n        \"dtype\": \"number\",\n        \"std\": 57,\n        \"min\": 1,\n        \"max\": 200,\n        \"num_unique_values\": 200,\n        \"samples\": [\n          173,\n          115,\n          126\n        ],\n        \"semantic_type\": \"\",\n        \"description\": \"\"\n      }\n    },\n    {\n      \"column\": \"sex\",\n      \"properties\": {\n        \"dtype\": \"number\",\n        \"std\": 0,\n        \"min\": 0,\n        \"max\": 1,\n        \"num_unique_values\": 2,\n        \"samples\": [\n          1,\n          0\n        ],\n        \"semantic_type\": \"\",\n        \"description\": \"\"\n      }\n    },\n    {\n      \"column\": \"AqChannel\",\n      \"properties\": {\n        \"dtype\": \"number\",\n        \"std\": 1,\n        \"min\": 1,\n        \"max\": 4,\n        \"num_unique_values\": 4,\n        \"samples\": [\n          3,\n          2\n        ],\n        \"semantic_type\": \"\",\n        \"description\": \"\"\n      }\n    },\n    {\n      \"column\": \"region\",\n      \"properties\": {\n        \"dtype\": \"number\",\n        \"std\": 0,\n        \"min\": 1,\n        \"max\": 3,\n        \"num_unique_values\": 3,\n        \"samples\": [\n          1,\n          2\n        ],\n        \"semantic_type\": \"\",\n        \"description\": \"\"\n      }\n    },\n    {\n      \"column\": \"Marital_status\",\n      \"properties\": {\n        \"dtype\": \"number\",\n        \"std\": 0,\n        \"min\": 1,\n        \"max\": 2,\n        \"num_unique_values\": 2,\n        \"samples\": [\n          2,\n          1\n        ],\n        \"semantic_type\": \"\",\n        \"description\": \"\"\n      }\n    },\n    {\n      \"column\": \"segment\",\n      \"properties\": {\n        \"dtype\": \"number\",\n        \"std\": 0,\n        \"min\": 1,\n        \"max\": 3,\n        \"num_unique_values\": 3,\n        \"samples\": [\n          1,\n          3\n        ],\n        \"semantic_type\": \"\",\n        \"description\": \"\"\n      }\n    },\n    {\n      \"column\": \"pre_usage\",\n      \"properties\": {\n        \"dtype\": \"number\",\n        \"std\": 10,\n        \"min\": 28,\n        \"max\": 76,\n        \"num_unique_values\": 30,\n        \"samples\": [\n          46,\n          52\n        ],\n        \"semantic_type\": \"\",\n        \"description\": \"\"\n      }\n    },\n    {\n      \"column\": \"Post_usage_1month\",\n      \"properties\": {\n        \"dtype\": \"number\",\n        \"std\": 9,\n        \"min\": 31,\n        \"max\": 67,\n        \"num_unique_values\": 29,\n        \"samples\": [\n          50,\n          67\n        ],\n        \"semantic_type\": \"\",\n        \"description\": \"\"\n      }\n    },\n    {\n      \"column\": \"Latest_mon_usage\",\n      \"properties\": {\n        \"dtype\": \"number\",\n        \"std\": 11.242137352892753,\n        \"min\": 39.6,\n        \"max\": 90.0,\n        \"num_unique_values\": 40,\n        \"samples\": [\n          76.8,\n          55.2\n        ],\n        \"semantic_type\": \"\",\n        \"description\": \"\"\n      }\n    },\n    {\n      \"column\": \"post_usage_2ndmonth\",\n      \"properties\": {\n        \"dtype\": \"number\",\n        \"std\": 10.426444623525182,\n        \"min\": 34.1,\n        \"max\": 73.7,\n        \"num_unique_values\": 29,\n        \"samples\": [\n          55.0,\n          73.7\n        ],\n        \"semantic_type\": \"\",\n        \"description\": \"\"\n      }\n    }\n  ]\n}"
            }
          },
          "metadata": {},
          "execution_count": 4
        }
      ]
    },
    {
      "cell_type": "markdown",
      "source": [
        "#Tugas 1"
      ],
      "metadata": {
        "id": "6NVZ94KBB5Cm"
      }
    },
    {
      "cell_type": "markdown",
      "source": [
        "##A. Jalankan fungsi-fungsi dasar: info(), describe()."
      ],
      "metadata": {
        "id": "i8yugqgwB9JN"
      }
    },
    {
      "cell_type": "code",
      "source": [
        "df.info()"
      ],
      "metadata": {
        "id": "3Yp9E35rCFXn",
        "outputId": "ad2aab7e-e10f-4159-d677-110c49629890",
        "colab": {
          "base_uri": "https://localhost:8080/"
        }
      },
      "execution_count": null,
      "outputs": [
        {
          "output_type": "stream",
          "name": "stdout",
          "text": [
            "<class 'pandas.core.frame.DataFrame'>\n",
            "RangeIndex: 200 entries, 0 to 199\n",
            "Data columns (total 10 columns):\n",
            " #   Column               Non-Null Count  Dtype  \n",
            "---  ------               --------------  -----  \n",
            " 0   custid               200 non-null    int64  \n",
            " 1   sex                  200 non-null    int64  \n",
            " 2   AqChannel            200 non-null    int64  \n",
            " 3   region               200 non-null    int64  \n",
            " 4   Marital_status       200 non-null    int64  \n",
            " 5   segment              200 non-null    int64  \n",
            " 6   pre_usage            200 non-null    int64  \n",
            " 7   Post_usage_1month    200 non-null    int64  \n",
            " 8   Latest_mon_usage     200 non-null    float64\n",
            " 9   post_usage_2ndmonth  200 non-null    float64\n",
            "dtypes: float64(2), int64(8)\n",
            "memory usage: 15.8 KB\n"
          ]
        }
      ]
    },
    {
      "cell_type": "code",
      "source": [
        "df.describe()"
      ],
      "metadata": {
        "id": "SklKJPS8CMAz",
        "outputId": "4fe5a011-16c1-4384-82af-9771c5ddcd75",
        "colab": {
          "base_uri": "https://localhost:8080/",
          "height": 321
        }
      },
      "execution_count": null,
      "outputs": [
        {
          "output_type": "execute_result",
          "data": {
            "text/plain": [
              "           custid        sex   AqChannel      region  Marital_status  \\\n",
              "count  200.000000  200.00000  200.000000  200.000000      200.000000   \n",
              "mean   100.500000    0.54500    3.430000    2.055000        1.160000   \n",
              "std     57.879185    0.49922    1.039472    0.724291        0.367526   \n",
              "min      1.000000    0.00000    1.000000    1.000000        1.000000   \n",
              "25%     50.750000    0.00000    3.000000    2.000000        1.000000   \n",
              "50%    100.500000    1.00000    4.000000    2.000000        1.000000   \n",
              "75%    150.250000    1.00000    4.000000    3.000000        1.000000   \n",
              "max    200.000000    1.00000    4.000000    3.000000        2.000000   \n",
              "\n",
              "          segment   pre_usage  Post_usage_1month  Latest_mon_usage  \\\n",
              "count  200.000000  200.000000         200.000000        200.000000   \n",
              "mean     2.025000   52.230000          52.775000         63.174000   \n",
              "std      0.690477   10.252937           9.478586         11.242137   \n",
              "min      1.000000   28.000000          31.000000         39.600000   \n",
              "25%      2.000000   44.000000          45.750000         54.000000   \n",
              "50%      2.000000   50.000000          54.000000         62.400000   \n",
              "75%      2.250000   60.000000          60.000000         70.800000   \n",
              "max      3.000000   76.000000          67.000000         90.000000   \n",
              "\n",
              "       post_usage_2ndmonth  \n",
              "count           200.000000  \n",
              "mean             58.052500  \n",
              "std              10.426445  \n",
              "min              34.100000  \n",
              "25%              50.325000  \n",
              "50%              59.400000  \n",
              "75%              66.000000  \n",
              "max              73.700000  "
            ],
            "text/html": [
              "\n",
              "  <div id=\"df-ffc24c81-9191-419b-af86-34d8172c4358\" class=\"colab-df-container\">\n",
              "    <div>\n",
              "<style scoped>\n",
              "    .dataframe tbody tr th:only-of-type {\n",
              "        vertical-align: middle;\n",
              "    }\n",
              "\n",
              "    .dataframe tbody tr th {\n",
              "        vertical-align: top;\n",
              "    }\n",
              "\n",
              "    .dataframe thead th {\n",
              "        text-align: right;\n",
              "    }\n",
              "</style>\n",
              "<table border=\"1\" class=\"dataframe\">\n",
              "  <thead>\n",
              "    <tr style=\"text-align: right;\">\n",
              "      <th></th>\n",
              "      <th>custid</th>\n",
              "      <th>sex</th>\n",
              "      <th>AqChannel</th>\n",
              "      <th>region</th>\n",
              "      <th>Marital_status</th>\n",
              "      <th>segment</th>\n",
              "      <th>pre_usage</th>\n",
              "      <th>Post_usage_1month</th>\n",
              "      <th>Latest_mon_usage</th>\n",
              "      <th>post_usage_2ndmonth</th>\n",
              "    </tr>\n",
              "  </thead>\n",
              "  <tbody>\n",
              "    <tr>\n",
              "      <th>count</th>\n",
              "      <td>200.000000</td>\n",
              "      <td>200.00000</td>\n",
              "      <td>200.000000</td>\n",
              "      <td>200.000000</td>\n",
              "      <td>200.000000</td>\n",
              "      <td>200.000000</td>\n",
              "      <td>200.000000</td>\n",
              "      <td>200.000000</td>\n",
              "      <td>200.000000</td>\n",
              "      <td>200.000000</td>\n",
              "    </tr>\n",
              "    <tr>\n",
              "      <th>mean</th>\n",
              "      <td>100.500000</td>\n",
              "      <td>0.54500</td>\n",
              "      <td>3.430000</td>\n",
              "      <td>2.055000</td>\n",
              "      <td>1.160000</td>\n",
              "      <td>2.025000</td>\n",
              "      <td>52.230000</td>\n",
              "      <td>52.775000</td>\n",
              "      <td>63.174000</td>\n",
              "      <td>58.052500</td>\n",
              "    </tr>\n",
              "    <tr>\n",
              "      <th>std</th>\n",
              "      <td>57.879185</td>\n",
              "      <td>0.49922</td>\n",
              "      <td>1.039472</td>\n",
              "      <td>0.724291</td>\n",
              "      <td>0.367526</td>\n",
              "      <td>0.690477</td>\n",
              "      <td>10.252937</td>\n",
              "      <td>9.478586</td>\n",
              "      <td>11.242137</td>\n",
              "      <td>10.426445</td>\n",
              "    </tr>\n",
              "    <tr>\n",
              "      <th>min</th>\n",
              "      <td>1.000000</td>\n",
              "      <td>0.00000</td>\n",
              "      <td>1.000000</td>\n",
              "      <td>1.000000</td>\n",
              "      <td>1.000000</td>\n",
              "      <td>1.000000</td>\n",
              "      <td>28.000000</td>\n",
              "      <td>31.000000</td>\n",
              "      <td>39.600000</td>\n",
              "      <td>34.100000</td>\n",
              "    </tr>\n",
              "    <tr>\n",
              "      <th>25%</th>\n",
              "      <td>50.750000</td>\n",
              "      <td>0.00000</td>\n",
              "      <td>3.000000</td>\n",
              "      <td>2.000000</td>\n",
              "      <td>1.000000</td>\n",
              "      <td>2.000000</td>\n",
              "      <td>44.000000</td>\n",
              "      <td>45.750000</td>\n",
              "      <td>54.000000</td>\n",
              "      <td>50.325000</td>\n",
              "    </tr>\n",
              "    <tr>\n",
              "      <th>50%</th>\n",
              "      <td>100.500000</td>\n",
              "      <td>1.00000</td>\n",
              "      <td>4.000000</td>\n",
              "      <td>2.000000</td>\n",
              "      <td>1.000000</td>\n",
              "      <td>2.000000</td>\n",
              "      <td>50.000000</td>\n",
              "      <td>54.000000</td>\n",
              "      <td>62.400000</td>\n",
              "      <td>59.400000</td>\n",
              "    </tr>\n",
              "    <tr>\n",
              "      <th>75%</th>\n",
              "      <td>150.250000</td>\n",
              "      <td>1.00000</td>\n",
              "      <td>4.000000</td>\n",
              "      <td>3.000000</td>\n",
              "      <td>1.000000</td>\n",
              "      <td>2.250000</td>\n",
              "      <td>60.000000</td>\n",
              "      <td>60.000000</td>\n",
              "      <td>70.800000</td>\n",
              "      <td>66.000000</td>\n",
              "    </tr>\n",
              "    <tr>\n",
              "      <th>max</th>\n",
              "      <td>200.000000</td>\n",
              "      <td>1.00000</td>\n",
              "      <td>4.000000</td>\n",
              "      <td>3.000000</td>\n",
              "      <td>2.000000</td>\n",
              "      <td>3.000000</td>\n",
              "      <td>76.000000</td>\n",
              "      <td>67.000000</td>\n",
              "      <td>90.000000</td>\n",
              "      <td>73.700000</td>\n",
              "    </tr>\n",
              "  </tbody>\n",
              "</table>\n",
              "</div>\n",
              "    <div class=\"colab-df-buttons\">\n",
              "\n",
              "  <div class=\"colab-df-container\">\n",
              "    <button class=\"colab-df-convert\" onclick=\"convertToInteractive('df-ffc24c81-9191-419b-af86-34d8172c4358')\"\n",
              "            title=\"Convert this dataframe to an interactive table.\"\n",
              "            style=\"display:none;\">\n",
              "\n",
              "  <svg xmlns=\"http://www.w3.org/2000/svg\" height=\"24px\" viewBox=\"0 -960 960 960\">\n",
              "    <path d=\"M120-120v-720h720v720H120Zm60-500h600v-160H180v160Zm220 220h160v-160H400v160Zm0 220h160v-160H400v160ZM180-400h160v-160H180v160Zm440 0h160v-160H620v160ZM180-180h160v-160H180v160Zm440 0h160v-160H620v160Z\"/>\n",
              "  </svg>\n",
              "    </button>\n",
              "\n",
              "  <style>\n",
              "    .colab-df-container {\n",
              "      display:flex;\n",
              "      gap: 12px;\n",
              "    }\n",
              "\n",
              "    .colab-df-convert {\n",
              "      background-color: #E8F0FE;\n",
              "      border: none;\n",
              "      border-radius: 50%;\n",
              "      cursor: pointer;\n",
              "      display: none;\n",
              "      fill: #1967D2;\n",
              "      height: 32px;\n",
              "      padding: 0 0 0 0;\n",
              "      width: 32px;\n",
              "    }\n",
              "\n",
              "    .colab-df-convert:hover {\n",
              "      background-color: #E2EBFA;\n",
              "      box-shadow: 0px 1px 2px rgba(60, 64, 67, 0.3), 0px 1px 3px 1px rgba(60, 64, 67, 0.15);\n",
              "      fill: #174EA6;\n",
              "    }\n",
              "\n",
              "    .colab-df-buttons div {\n",
              "      margin-bottom: 4px;\n",
              "    }\n",
              "\n",
              "    [theme=dark] .colab-df-convert {\n",
              "      background-color: #3B4455;\n",
              "      fill: #D2E3FC;\n",
              "    }\n",
              "\n",
              "    [theme=dark] .colab-df-convert:hover {\n",
              "      background-color: #434B5C;\n",
              "      box-shadow: 0px 1px 3px 1px rgba(0, 0, 0, 0.15);\n",
              "      filter: drop-shadow(0px 1px 2px rgba(0, 0, 0, 0.3));\n",
              "      fill: #FFFFFF;\n",
              "    }\n",
              "  </style>\n",
              "\n",
              "    <script>\n",
              "      const buttonEl =\n",
              "        document.querySelector('#df-ffc24c81-9191-419b-af86-34d8172c4358 button.colab-df-convert');\n",
              "      buttonEl.style.display =\n",
              "        google.colab.kernel.accessAllowed ? 'block' : 'none';\n",
              "\n",
              "      async function convertToInteractive(key) {\n",
              "        const element = document.querySelector('#df-ffc24c81-9191-419b-af86-34d8172c4358');\n",
              "        const dataTable =\n",
              "          await google.colab.kernel.invokeFunction('convertToInteractive',\n",
              "                                                    [key], {});\n",
              "        if (!dataTable) return;\n",
              "\n",
              "        const docLinkHtml = 'Like what you see? Visit the ' +\n",
              "          '<a target=\"_blank\" href=https://colab.research.google.com/notebooks/data_table.ipynb>data table notebook</a>'\n",
              "          + ' to learn more about interactive tables.';\n",
              "        element.innerHTML = '';\n",
              "        dataTable['output_type'] = 'display_data';\n",
              "        await google.colab.output.renderOutput(dataTable, element);\n",
              "        const docLink = document.createElement('div');\n",
              "        docLink.innerHTML = docLinkHtml;\n",
              "        element.appendChild(docLink);\n",
              "      }\n",
              "    </script>\n",
              "  </div>\n",
              "\n",
              "\n",
              "<div id=\"df-ec786656-fb11-46ff-b5f4-7daf45b3248a\">\n",
              "  <button class=\"colab-df-quickchart\" onclick=\"quickchart('df-ec786656-fb11-46ff-b5f4-7daf45b3248a')\"\n",
              "            title=\"Suggest charts\"\n",
              "            style=\"display:none;\">\n",
              "\n",
              "<svg xmlns=\"http://www.w3.org/2000/svg\" height=\"24px\"viewBox=\"0 0 24 24\"\n",
              "     width=\"24px\">\n",
              "    <g>\n",
              "        <path d=\"M19 3H5c-1.1 0-2 .9-2 2v14c0 1.1.9 2 2 2h14c1.1 0 2-.9 2-2V5c0-1.1-.9-2-2-2zM9 17H7v-7h2v7zm4 0h-2V7h2v10zm4 0h-2v-4h2v4z\"/>\n",
              "    </g>\n",
              "</svg>\n",
              "  </button>\n",
              "\n",
              "<style>\n",
              "  .colab-df-quickchart {\n",
              "      --bg-color: #E8F0FE;\n",
              "      --fill-color: #1967D2;\n",
              "      --hover-bg-color: #E2EBFA;\n",
              "      --hover-fill-color: #174EA6;\n",
              "      --disabled-fill-color: #AAA;\n",
              "      --disabled-bg-color: #DDD;\n",
              "  }\n",
              "\n",
              "  [theme=dark] .colab-df-quickchart {\n",
              "      --bg-color: #3B4455;\n",
              "      --fill-color: #D2E3FC;\n",
              "      --hover-bg-color: #434B5C;\n",
              "      --hover-fill-color: #FFFFFF;\n",
              "      --disabled-bg-color: #3B4455;\n",
              "      --disabled-fill-color: #666;\n",
              "  }\n",
              "\n",
              "  .colab-df-quickchart {\n",
              "    background-color: var(--bg-color);\n",
              "    border: none;\n",
              "    border-radius: 50%;\n",
              "    cursor: pointer;\n",
              "    display: none;\n",
              "    fill: var(--fill-color);\n",
              "    height: 32px;\n",
              "    padding: 0;\n",
              "    width: 32px;\n",
              "  }\n",
              "\n",
              "  .colab-df-quickchart:hover {\n",
              "    background-color: var(--hover-bg-color);\n",
              "    box-shadow: 0 1px 2px rgba(60, 64, 67, 0.3), 0 1px 3px 1px rgba(60, 64, 67, 0.15);\n",
              "    fill: var(--button-hover-fill-color);\n",
              "  }\n",
              "\n",
              "  .colab-df-quickchart-complete:disabled,\n",
              "  .colab-df-quickchart-complete:disabled:hover {\n",
              "    background-color: var(--disabled-bg-color);\n",
              "    fill: var(--disabled-fill-color);\n",
              "    box-shadow: none;\n",
              "  }\n",
              "\n",
              "  .colab-df-spinner {\n",
              "    border: 2px solid var(--fill-color);\n",
              "    border-color: transparent;\n",
              "    border-bottom-color: var(--fill-color);\n",
              "    animation:\n",
              "      spin 1s steps(1) infinite;\n",
              "  }\n",
              "\n",
              "  @keyframes spin {\n",
              "    0% {\n",
              "      border-color: transparent;\n",
              "      border-bottom-color: var(--fill-color);\n",
              "      border-left-color: var(--fill-color);\n",
              "    }\n",
              "    20% {\n",
              "      border-color: transparent;\n",
              "      border-left-color: var(--fill-color);\n",
              "      border-top-color: var(--fill-color);\n",
              "    }\n",
              "    30% {\n",
              "      border-color: transparent;\n",
              "      border-left-color: var(--fill-color);\n",
              "      border-top-color: var(--fill-color);\n",
              "      border-right-color: var(--fill-color);\n",
              "    }\n",
              "    40% {\n",
              "      border-color: transparent;\n",
              "      border-right-color: var(--fill-color);\n",
              "      border-top-color: var(--fill-color);\n",
              "    }\n",
              "    60% {\n",
              "      border-color: transparent;\n",
              "      border-right-color: var(--fill-color);\n",
              "    }\n",
              "    80% {\n",
              "      border-color: transparent;\n",
              "      border-right-color: var(--fill-color);\n",
              "      border-bottom-color: var(--fill-color);\n",
              "    }\n",
              "    90% {\n",
              "      border-color: transparent;\n",
              "      border-bottom-color: var(--fill-color);\n",
              "    }\n",
              "  }\n",
              "</style>\n",
              "\n",
              "  <script>\n",
              "    async function quickchart(key) {\n",
              "      const quickchartButtonEl =\n",
              "        document.querySelector('#' + key + ' button');\n",
              "      quickchartButtonEl.disabled = true;  // To prevent multiple clicks.\n",
              "      quickchartButtonEl.classList.add('colab-df-spinner');\n",
              "      try {\n",
              "        const charts = await google.colab.kernel.invokeFunction(\n",
              "            'suggestCharts', [key], {});\n",
              "      } catch (error) {\n",
              "        console.error('Error during call to suggestCharts:', error);\n",
              "      }\n",
              "      quickchartButtonEl.classList.remove('colab-df-spinner');\n",
              "      quickchartButtonEl.classList.add('colab-df-quickchart-complete');\n",
              "    }\n",
              "    (() => {\n",
              "      let quickchartButtonEl =\n",
              "        document.querySelector('#df-ec786656-fb11-46ff-b5f4-7daf45b3248a button');\n",
              "      quickchartButtonEl.style.display =\n",
              "        google.colab.kernel.accessAllowed ? 'block' : 'none';\n",
              "    })();\n",
              "  </script>\n",
              "</div>\n",
              "\n",
              "    </div>\n",
              "  </div>\n"
            ],
            "application/vnd.google.colaboratory.intrinsic+json": {
              "type": "dataframe",
              "summary": "{\n  \"name\": \"df\",\n  \"rows\": 8,\n  \"fields\": [\n    {\n      \"column\": \"custid\",\n      \"properties\": {\n        \"dtype\": \"number\",\n        \"std\": 71.77644232399086,\n        \"min\": 1.0,\n        \"max\": 200.0,\n        \"num_unique_values\": 6,\n        \"samples\": [\n          200.0,\n          100.5,\n          150.25\n        ],\n        \"semantic_type\": \"\",\n        \"description\": \"\"\n      }\n    },\n    {\n      \"column\": \"sex\",\n      \"properties\": {\n        \"dtype\": \"number\",\n        \"std\": 70.50763966335327,\n        \"min\": 0.0,\n        \"max\": 200.0,\n        \"num_unique_values\": 5,\n        \"samples\": [\n          0.545,\n          1.0,\n          0.4992204979041217\n        ],\n        \"semantic_type\": \"\",\n        \"description\": \"\"\n      }\n    },\n    {\n      \"column\": \"AqChannel\",\n      \"properties\": {\n        \"dtype\": \"number\",\n        \"std\": 69.68807735643657,\n        \"min\": 1.0,\n        \"max\": 200.0,\n        \"num_unique_values\": 6,\n        \"samples\": [\n          200.0,\n          3.43,\n          4.0\n        ],\n        \"semantic_type\": \"\",\n        \"description\": \"\"\n      }\n    },\n    {\n      \"column\": \"region\",\n      \"properties\": {\n        \"dtype\": \"number\",\n        \"std\": 70.01943551166941,\n        \"min\": 0.7242913708927833,\n        \"max\": 200.0,\n        \"num_unique_values\": 6,\n        \"samples\": [\n          200.0,\n          2.055,\n          3.0\n        ],\n        \"semantic_type\": \"\",\n        \"description\": \"\"\n      }\n    },\n    {\n      \"column\": \"Marital_status\",\n      \"properties\": {\n        \"dtype\": \"number\",\n        \"std\": 70.33188813279992,\n        \"min\": 0.36752602205071494,\n        \"max\": 200.0,\n        \"num_unique_values\": 5,\n        \"samples\": [\n          1.16,\n          2.0,\n          0.36752602205071494\n        ],\n        \"semantic_type\": \"\",\n        \"description\": \"\"\n      }\n    },\n    {\n      \"column\": \"segment\",\n      \"properties\": {\n        \"dtype\": \"number\",\n        \"std\": 70.0595186484318,\n        \"min\": 0.6904772219051464,\n        \"max\": 200.0,\n        \"num_unique_values\": 7,\n        \"samples\": [\n          200.0,\n          2.025,\n          2.25\n        ],\n        \"semantic_type\": \"\",\n        \"description\": \"\"\n      }\n    },\n    {\n      \"column\": \"pre_usage\",\n      \"properties\": {\n        \"dtype\": \"number\",\n        \"std\": 58.022513700198225,\n        \"min\": 10.25293682648241,\n        \"max\": 200.0,\n        \"num_unique_values\": 8,\n        \"samples\": [\n          52.23,\n          50.0,\n          200.0\n        ],\n        \"semantic_type\": \"\",\n        \"description\": \"\"\n      }\n    },\n    {\n      \"column\": \"Post_usage_1month\",\n      \"properties\": {\n        \"dtype\": \"number\",\n        \"std\": 57.487440284909354,\n        \"min\": 9.478586021386526,\n        \"max\": 200.0,\n        \"num_unique_values\": 8,\n        \"samples\": [\n          52.775,\n          54.0,\n          200.0\n        ],\n        \"semantic_type\": \"\",\n        \"description\": \"\"\n      }\n    },\n    {\n      \"column\": \"Latest_mon_usage\",\n      \"properties\": {\n        \"dtype\": \"number\",\n        \"std\": 55.953851897219714,\n        \"min\": 11.242137352892753,\n        \"max\": 200.0,\n        \"num_unique_values\": 8,\n        \"samples\": [\n          63.174,\n          62.4,\n          200.0\n        ],\n        \"semantic_type\": \"\",\n        \"description\": \"\"\n      }\n    },\n    {\n      \"column\": \"post_usage_2ndmonth\",\n      \"properties\": {\n        \"dtype\": \"number\",\n        \"std\": 56.57072030242444,\n        \"min\": 10.426444623525182,\n        \"max\": 200.0,\n        \"num_unique_values\": 8,\n        \"samples\": [\n          58.0525,\n          59.4,\n          200.0\n        ],\n        \"semantic_type\": \"\",\n        \"description\": \"\"\n      }\n    }\n  ]\n}"
            }
          },
          "metadata": {},
          "execution_count": 6
        }
      ]
    },
    {
      "cell_type": "markdown",
      "source": [
        "##B.Buat histogram untuk melihat persebaran data beberapa variable yang menurut Anda penting."
      ],
      "metadata": {
        "id": "EubF62lPCRdb"
      }
    },
    {
      "cell_type": "code",
      "source": [
        "\n",
        "## 1. Select Variable Pre_usage(Sebelum Kampanye)\n",
        "data = df.pre_usage\n",
        "\n",
        "# Create plot\n",
        "plt.hist(data, bins =25, color='blue')\n",
        "plt.xlabel(\"Penggunaan Kartu Kredit Sebelum Kampanye\")\n",
        "plt.ylabel(\"Frequency\")\n",
        "plt.title(\"Distribusi Penggunaan Kartu Kredit Sebelum Kampanye\")\n",
        "\n",
        "##Show plot\n",
        "plt.show()"
      ],
      "metadata": {
        "id": "2CB6ppP8DMRA",
        "outputId": "a8bb4577-80ce-4495-c772-afa454ad5a96",
        "colab": {
          "base_uri": "https://localhost:8080/",
          "height": 472
        }
      },
      "execution_count": null,
      "outputs": [
        {
          "output_type": "display_data",
          "data": {
            "text/plain": [
              "<Figure size 640x480 with 1 Axes>"
            ],
            "image/png": "[encoded data removed]"
          },
          "metadata": {}
        }
      ]
    },
    {
      "cell_type": "code",
      "source": [
        "##2. Select Variable Post_usage_1month\n",
        "data1 = df.Post_usage_1month\n",
        "# Create plot\n",
        "\n",
        "plt.hist(data1, bins =25, color='green')\n",
        "plt.xlabel(\"Penggunaan Kartu Kredit 1 Bulan Setelah Kampanye\")\n",
        "plt.ylabel(\"Frequency\")\n",
        "plt.title(\"Distribusi Penggunaan Kartu Kredit 1 Bulan Setelah Kampanye\")\n",
        "\n",
        "#slow plot\n",
        "plt.show()\n"
      ],
      "metadata": {
        "id": "FXNmwphIhhOt",
        "outputId": "894562ea-8f1c-4418-9f6c-e64e4f021b70",
        "colab": {
          "base_uri": "https://localhost:8080/",
          "height": 472
        }
      },
      "execution_count": null,
      "outputs": [
        {
          "output_type": "display_data",
          "data": {
            "text/plain": [
              "<Figure size 640x480 with 1 Axes>"
            ],
            "image/png": "[encoded data removed]"
          },
          "metadata": {}
        }
      ]
    },
    {
      "cell_type": "code",
      "source": [
        "##3.Select variable post_usage_2ndmonth\n",
        "data3 = df.post_usage_2ndmonth\n",
        "# Create plot\n",
        "\n",
        "plt.hist(data3, bins =25, color='orange')\n",
        "plt.xlabel(\"Penggunaan Kartu Kredit 2 Bulan Setelah Kampanye\")\n",
        "plt.ylabel(\"Frequency\")\n",
        "plt.title(\"Distribusi Penggunaan Kartu Kredit 2 Bulan Setelah Kampanye\")\n",
        "\n",
        "##Show plot\n",
        "plt.show()"
      ],
      "metadata": {
        "id": "Ow86ZbDaiADV",
        "outputId": "aa6af0d3-daec-49b9-ad3c-903440e24fed",
        "colab": {
          "base_uri": "https://localhost:8080/",
          "height": 472
        }
      },
      "execution_count": null,
      "outputs": [
        {
          "output_type": "display_data",
          "data": {
            "text/plain": [
              "<Figure size 640x480 with 1 Axes>"
            ],
            "image/png": "[encoded data removed]"
          },
          "metadata": {}
        }
      ]
    },
    {
      "cell_type": "markdown",
      "source": [
        "#2. Uji hipothesis"
      ],
      "metadata": {
        "id": "5qudHbeAKEoX"
      }
    },
    {
      "cell_type": "markdown",
      "source": [
        "##a. Bandingkan penggunaan kartu kredit antara sebelum kampanye dengan 1 bulan setelah kampanye."
      ],
      "metadata": {
        "id": "dO0VZxluKKfl"
      }
    },
    {
      "cell_type": "markdown",
      "source": [
        "** referench https://docs.scipy.org/doc/scipy/reference/index.html\n",
        "** referench https://docs.scipy.org/doc/scipy/reference/generated/scipy.stats.ttest_ind.html\n"
      ],
      "metadata": {
        "id": "sgsxY70oK1IO"
      }
    },
    {
      "cell_type": "markdown",
      "source": [
        "** stats.ttest_rel di ajarkan ketika sesi menthoring ketika hari Rabu\n",
        "** stats.ttest_ind di ajarkan ketika sesi menthoring ketika hari Rabu"
      ],
      "metadata": {
        "id": "d4IMzeFPJlFT"
      }
    },
    {
      "cell_type": "code",
      "source": [
        "# Uji t untuk perbandingan sebelum kampanye dan 1 bulan setelah kampanye\n",
        "pre_usage = df['pre_usage']\n",
        "post_usage_1month = df['Post_usage_1month']\n",
        "\n",
        "# Uji hipotesis t-test berpasangan\n",
        "t_stat, p_value = stats.ttest_rel(pre_usage, post_usage_1month)\n",
        "\n",
        "# Menampilkan hasil uji hipotesis\n",
        "print(f\"T-statistic: {t_stat}\")\n",
        "print(f\"P-value: {p_value}\")\n"
      ],
      "metadata": {
        "id": "_pMMuzMMPdD4",
        "outputId": "9dbb22c2-6d35-481d-c70b-efeac691353e",
        "colab": {
          "base_uri": "https://localhost:8080/"
        }
      },
      "execution_count": null,
      "outputs": [
        {
          "output_type": "stream",
          "name": "stdout",
          "text": [
            "T-statistic: -0.8673065458794775\n",
            "P-value: 0.3868186820914985\n"
          ]
        }
      ]
    },
    {
      "cell_type": "code",
      "source": [
        "# kesimpulan\n",
        "alpha = 0.05\n",
        "if p_value < alpha:\n",
        "    print(\"Tolak H0: Ada perbedaan yang signifikan dalam penggunaan kartu kredit.\")\n",
        "else:\n",
        "    print(\"Gagal menolak H0: Tidak ada perbedaan yang signifikan dalam penggunaan kartu kredit.\")"
      ],
      "metadata": {
        "id": "4kpl7CG_RYzt",
        "outputId": "358e9981-0db5-498d-9a24-9dcff995caf7",
        "colab": {
          "base_uri": "https://localhost:8080/"
        }
      },
      "execution_count": null,
      "outputs": [
        {
          "output_type": "stream",
          "name": "stdout",
          "text": [
            "Gagal menolak H0: Tidak ada perbedaan yang signifikan dalam penggunaan kartu kredit.\n"
          ]
        }
      ]
    },
    {
      "cell_type": "markdown",
      "source": [
        "##B. Bandingkan penggunaan kartu kredit antara sebelum kampanye dengan 2 bulan setelah kampanye."
      ],
      "metadata": {
        "id": "l4TnLVuMc6pD"
      }
    },
    {
      "cell_type": "code",
      "source": [
        "# Uji t untuk perbandingan sebelum kampanye dan 2 bulan setelah kampanye\n",
        "pre_usage = df['pre_usage']\n",
        "post_usage_2month = df['post_usage_2ndmonth']\n",
        "\n",
        "# Uji hipotesis t-test berpasangan\n",
        "t_stat, p_value = stats.ttest_rel(pre_usage, post_usage_2month)\n",
        "\n",
        "# Menampilkan hasil uji hipotesis\n",
        "print(f\"T-statistic: {t_stat}\")\n",
        "print(f\"P-value: {p_value}\")"
      ],
      "metadata": {
        "id": "1aI4ZBogKD2s",
        "outputId": "db60a649-ef38-4fc8-b410-444a0261d3c5",
        "colab": {
          "base_uri": "https://localhost:8080/"
        }
      },
      "execution_count": null,
      "outputs": [
        {
          "output_type": "stream",
          "name": "stdout",
          "text": [
            "T-statistic: -8.866832246938742\n",
            "P-value: 4.295733828012836e-16\n"
          ]
        }
      ]
    },
    {
      "cell_type": "code",
      "source": [
        "# Kesimpulan\n",
        "alpha = 0.05\n",
        "if p_value < alpha:\n",
        "    print(\"Tolak H0: Ada perbedaan yang signifikan dalam penggunaan kartu kredit.\")\n",
        "else:\n",
        "    print(\"Gagal menolak H0: Tidak ada perbedaan yang signifikan dalam penggunaan kartu kredit.\")"
      ],
      "metadata": {
        "id": "UoaUX70rd2_n",
        "outputId": "3cf9a122-5fcc-4dc8-f1bd-46c31cc66e69",
        "colab": {
          "base_uri": "https://localhost:8080/"
        }
      },
      "execution_count": null,
      "outputs": [
        {
          "output_type": "stream",
          "name": "stdout",
          "text": [
            "Tolak H0: Ada perbedaan yang signifikan dalam penggunaan kartu kredit.\n"
          ]
        }
      ]
    },
    {
      "cell_type": "markdown",
      "source": [
        "**Kesimpulan\n",
        "Penggunaan kartu kredit pada 1 bulan pertama tidak terdapat perubahan, sehingga kampanye dikatakan belum berhasil. Akan tetapi pada 2 bulan sesudah kampanye bisa dikatakan berhasil dikarenakan ada  perubahan yang signifikan"
      ],
      "metadata": {
        "id": "iqi3WEhfDhtI"
      }
    },
    {
      "cell_type": "markdown",
      "source": [
        "# Tugas no.3"
      ],
      "metadata": {
        "id": "BhOZ3BmOe0oD"
      }
    },
    {
      "cell_type": "markdown",
      "source": [
        "** mengenai stats.ttest_ind\n",
        " https://docs.scipy.org/doc/scipy/reference/generated/scipy.stats.ttest_rel.html"
      ],
      "metadata": {
        "id": "Y378S8LgLq4s"
      }
    },
    {
      "cell_type": "markdown",
      "source": [
        "##A. a. Bandingkan penggunaan kartu kredit kelompok laki-laki dengan perempuan 1 bulan setelah kampanye."
      ],
      "metadata": {
        "id": "AMwSqEvEe-yG"
      }
    },
    {
      "cell_type": "code",
      "source": [
        "# Perbedaan jenis kelamin Post_usage_1month\n",
        "male_usage = df[df['sex'] == 0]['Post_usage_1month']\n",
        "female_usage = df[df['sex'] == 1]['Post_usage_1month']"
      ],
      "metadata": {
        "id": "Mqv58eecd-_f"
      },
      "execution_count": null,
      "outputs": []
    },
    {
      "cell_type": "code",
      "source": [
        "#Uji hipotesis\n",
        "t_stat, p_value = stats.ttest_ind(male_usage, female_usage)\n",
        "\n",
        "print(f\"T-statistic: {t_stat}\")\n",
        "print(f\"P-value: {p_value}\")"
      ],
      "metadata": {
        "id": "M-QaylOSfe15",
        "outputId": "be838d49-65d0-499e-e97e-b3701c9e7964",
        "colab": {
          "base_uri": "https://localhost:8080/"
        }
      },
      "execution_count": null,
      "outputs": [
        {
          "output_type": "stream",
          "name": "stdout",
          "text": [
            "T-statistic: -3.7340738531536797\n",
            "P-value: 0.00024625461203549315\n"
          ]
        }
      ]
    },
    {
      "cell_type": "code",
      "source": [
        "alpha = 0.05\n",
        "if p_value < alpha:\n",
        "    print(\"Tolak H0: Ada perbedaan yang signifikan dalam penggunaan kartu kredit antara laki-laki dan perempuan.\")\n",
        "else:\n",
        "    print(\"Gagal menolak H0: Tidak ada perbedaan yang signifikan dalam penggunaan kartu kredit antara laki-laki dan perempuan.\")"
      ],
      "metadata": {
        "id": "QCb55G6ogAsj",
        "outputId": "5fe7a9e1-64a4-477e-d086-c78b836195b8",
        "colab": {
          "base_uri": "https://localhost:8080/"
        }
      },
      "execution_count": null,
      "outputs": [
        {
          "output_type": "stream",
          "name": "stdout",
          "text": [
            "Tolak H0: Ada perbedaan yang signifikan dalam penggunaan kartu kredit antara laki-laki dan perempuan.\n"
          ]
        }
      ]
    },
    {
      "cell_type": "markdown",
      "source": [
        "##B. Bandingkan penggunaan kartu kredit kelompok laki-laki dengan perempuan 2 bulan setelah kampanye"
      ],
      "metadata": {
        "id": "83eTmeRtgJ1B"
      }
    },
    {
      "cell_type": "code",
      "source": [
        "# # Perbedaan jenis kelamin Post_usage_2month\n",
        "male_usage2 = df[df['sex'] == 0]['post_usage_2ndmonth']\n",
        "female_usage2 = df[df['sex'] == 1]['post_usage_2ndmonth']"
      ],
      "metadata": {
        "id": "0o61zJXvgEm0"
      },
      "execution_count": null,
      "outputs": []
    },
    {
      "cell_type": "code",
      "source": [
        "# Uji hipotesis\n",
        "t_stat, p_value = stats.ttest_ind(male_usage2, female_usage2)\n",
        "\n",
        "print(f\"T-statistic: {t_stat}\")\n",
        "print(f\"P-value: {p_value}\")"
      ],
      "metadata": {
        "id": "EbIOoKHZggxq",
        "outputId": "1666f66d-8a4d-4fda-c20f-e4873dc7886e",
        "colab": {
          "base_uri": "https://localhost:8080/"
        }
      },
      "execution_count": null,
      "outputs": [
        {
          "output_type": "stream",
          "name": "stdout",
          "text": [
            "T-statistic: -3.7340738531536926\n",
            "P-value: 0.00024625461203548154\n"
          ]
        }
      ]
    },
    {
      "cell_type": "code",
      "source": [
        "alpha = 0.05\n",
        "if p_value < alpha:\n",
        "    print(\"Tolak H0: Ada perbedaan yang signifikan dalam penggunaan kartu kredit antara laki-laki dan perempuan.\")\n",
        "else:\n",
        "    print(\"Gagal menolak H0: Tidak ada perbedaan yang signifikan dalam penggunaan kartu kredit antara laki-laki dan perempuan.\")"
      ],
      "metadata": {
        "id": "4YY2hS9Yguf3",
        "outputId": "7f8e21ab-c689-4fac-d01f-f149d985bf63",
        "colab": {
          "base_uri": "https://localhost:8080/"
        }
      },
      "execution_count": null,
      "outputs": [
        {
          "output_type": "stream",
          "name": "stdout",
          "text": [
            "Tolak H0: Ada perbedaan yang signifikan dalam penggunaan kartu kredit antara laki-laki dan perempuan.\n"
          ]
        }
      ]
    },
    {
      "cell_type": "markdown",
      "source": [
        "**Kesimpulan\n",
        "-- Untuk perbandungan kampanye pada penggunaan kartu kredit pada laki\" maupun perempuan pada 1 bulan / 2 bulan setelah itu memiliki keberhasilan dikarenakan adanya perubahan yang signifikan"
      ],
      "metadata": {
        "id": "E8WYKW2tFmzq"
      }
    }
  ]
}