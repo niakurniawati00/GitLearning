{
  "nbformat": 4,
  "nbformat_minor": 0,
  "metadata": {
    "colab": {
      "provenance": [],
      "authorship_tag": "ABX9TyPBpJPKMhGH5DmQ4tlzddiu",
      "include_colab_link": true
    },
    "kernelspec": {
      "name": "python3",
      "display_name": "Python 3"
    },
    "language_info": {
      "name": "python"
    }
  },
  "cells": [
    {
      "cell_type": "markdown",
      "metadata": {
        "id": "view-in-github",
        "colab_type": "text"
      },
      "source": [
        "<a href=\"https://colab.research.google.com/github/niakurniawati00/GitLearning/blob/main/Functions_in_Basic_Programming_Homework_3_Nia.ipynb\" target=\"_parent\"><img src=\"https://colab.research.google.com/assets/colab-badge.svg\" alt=\"Open In Colab\"/></a>"
      ]
    },
    {
      "cell_type": "markdown",
      "source": [
        "##1. Buatlah sebuah fungsi untuk mendapatkan nilai terbesar dari input 3 (tiga) buah bilangan"
      ],
      "metadata": {
        "id": "xtqC7hfCikWY"
      }
    },
    {
      "cell_type": "code",
      "source": [
        "def nilai_terbesar(a,b,c):\n",
        "  if a > b:  #membandingkan nilai a dan b\n",
        "    terbesar = a\n",
        "  else:\n",
        "    terbesar = b\n",
        "\n",
        "  if c > terbesar: #membandingkan nilai c dan terbesar\n",
        "    terbesar = c\n",
        "  return terbesar\n",
        "\n"
      ],
      "metadata": {
        "id": "D2V31K2UixGj"
      },
      "execution_count": null,
      "outputs": []
    },
    {
      "cell_type": "code",
      "source": [
        "  a = 45\n",
        "  b = 27\n",
        "  c = 30\n",
        "\n",
        "  print(\"nilai terbesar adalah :\", nilai_terbesar(a,b,c))"
      ],
      "metadata": {
        "colab": {
          "base_uri": "https://localhost:8080/"
        },
        "id": "w_hP6vorkl-r",
        "outputId": "97fb17ce-4d66-4fcc-ad14-5c8e6a3085a9"
      },
      "execution_count": null,
      "outputs": [
        {
          "output_type": "stream",
          "name": "stdout",
          "text": [
            "nilai terbesar adalah : 45\n"
          ]
        }
      ]
    },
    {
      "cell_type": "markdown",
      "source": [
        "##2. Buatlah sebuah fungsi untuk mendapatkan nilai rata-rata dari input sejumlah n bilangan dalam sebuah list."
      ],
      "metadata": {
        "id": "HHGjgh7Sk3fk"
      }
    },
    {
      "cell_type": "code",
      "source": [
        "def hitung_rata_rata1(daftar_bilangan):\n",
        "    total = 0\n",
        "    for bilangan in daftar_bilangan:\n",
        "        total += bilangan\n",
        "\n",
        "    rata_rata = total / len(daftar_bilangan)\n",
        "\n",
        "    return rata_rata"
      ],
      "metadata": {
        "id": "CJRv9isk6lAH"
      },
      "execution_count": null,
      "outputs": []
    },
    {
      "cell_type": "code",
      "source": [
        "daftar_bilangan = [20,60,40,35,20]\n",
        "Mean = hitung_rata_rata1(daftar_bilangan)\n",
        "print(\"Hasil rata-rata :\", Mean)"
      ],
      "metadata": {
        "colab": {
          "base_uri": "https://localhost:8080/"
        },
        "id": "WsoupQqIp5Pg",
        "outputId": "f3327fdf-550c-4a14-bef5-15c4dd65bf11"
      },
      "execution_count": null,
      "outputs": [
        {
          "output_type": "stream",
          "name": "stdout",
          "text": [
            "Hasil rata-rata : 35.0\n"
          ]
        }
      ]
    },
    {
      "cell_type": "markdown",
      "source": [
        "##3. Buatlah sebuah fungsi yang menghitung banyaknya bilangan genap dan bilangan ganjil dari sejumlah elemen di dalam sebuah list. Output berupa sebuah tuple dengan dua elemen: elemen pertama adalah banyanya bilangan genap, elemen kedua adalah banyaknya bilangan ganjil."
      ],
      "metadata": {
        "id": "aNQc5Uxsq6X0"
      }
    },
    {
      "cell_type": "code",
      "source": [
        "def hitung_genap_ganjil(nilai_bilangan):\n",
        "    genap = 0\n",
        "    ganjil = 0\n",
        "    for bilangan in nilai_bilangan:\n",
        "        if bilangan % 2 == 0:  #jika angka berupa genap\n",
        "            genap += 1\n",
        "        else:\n",
        "            ganjil += 1     #jika angka berupa ganjil\n",
        "    return (genap, ganjil)"
      ],
      "metadata": {
        "id": "OvRK6v8jrB_g"
      },
      "execution_count": null,
      "outputs": []
    },
    {
      "cell_type": "code",
      "source": [
        "angka = [1,3,4,6,8,11,13,15,17]\n",
        "hasil = hitung_genap_ganjil(angka)\n",
        "print((hasil[0]),(hasil[1]))\n",
        "\n"
      ],
      "metadata": {
        "colab": {
          "base_uri": "https://localhost:8080/"
        },
        "id": "J2t7tU1Is5lW",
        "outputId": "f93ba92e-19f0-4640-ed2f-256878b17386"
      },
      "execution_count": null,
      "outputs": [
        {
          "output_type": "stream",
          "name": "stdout",
          "text": [
            "3 6\n"
          ]
        }
      ]
    },
    {
      "cell_type": "markdown",
      "source": [
        "##4.  Diberikan sebuah string yang merupakan campuran dari huruf kecil dan huruf kapital. Buatlah sebuah fungsi yang mengubah susunan huruf dalam string tersebut supaya huruf kecil muncul terlebih dahulu baru diikuti huruf kapital.\n"
      ],
      "metadata": {
        "id": "8fxzo25DutcY"
      }
    },
    {
      "cell_type": "code",
      "source": [
        "def campuran_huruf(string):\n",
        "    huruf_kecil = []\n",
        "    huruf_kapital = []\n",
        "    for char in string:\n",
        "        if char.islower():\n",
        "          huruf_kecil.append(char)\n",
        "        elif char.isupper():\n",
        "          huruf_kapital.append(char)\n",
        "    return ''.join(huruf_kecil + huruf_kapital)"
      ],
      "metadata": {
        "id": "XKUNKj8Cu0DK"
      },
      "execution_count": null,
      "outputs": []
    },
    {
      "cell_type": "code",
      "source": [
        "input_string = \"LangiTHujaN\"\n",
        "output_string = campuran_huruf(input_string)\n",
        "print(output_string)"
      ],
      "metadata": {
        "colab": {
          "base_uri": "https://localhost:8080/"
        },
        "id": "D-GjUzLVvlEf",
        "outputId": "227fa654-df86-4a31-8bea-95e9668426c1"
      },
      "execution_count": null,
      "outputs": [
        {
          "output_type": "stream",
          "name": "stdout",
          "text": [
            "angiujaLTHN\n"
          ]
        }
      ]
    },
    {
      "cell_type": "markdown",
      "source": [
        "##5.  Diberikan suatu kata dalam string, buatlah fungsi yang menghitung banyaknya kemunculan setiap karakter (huruf/angka/symbol) dalam kata tersebut. Hasil kembaliannya harus berupa dictionary. Dilarang menggunakan fungsi built-in count() dari Python."
      ],
      "metadata": {
        "id": "DOUFar5KyLYV"
      }
    },
    {
      "cell_type": "code",
      "source": [
        "def count_char(kata):\n",
        "    jumlah = {}\n",
        "\n",
        "    for char in kata:\n",
        "        if char in jumlah:\n",
        "            jumlah[char] += 1\n",
        "        else:\n",
        "            jumlah[char] = 1\n",
        "\n",
        "    return jumlah"
      ],
      "metadata": {
        "id": "031iFLD7ypxI"
      },
      "execution_count": null,
      "outputs": []
    },
    {
      "cell_type": "code",
      "source": [
        "input_string = \"Intelligent AI\"\n",
        "output = count_char(input_string)\n",
        "print(output)"
      ],
      "metadata": {
        "colab": {
          "base_uri": "https://localhost:8080/"
        },
        "id": "j95aFm8Sy2fU",
        "outputId": "2ee1280e-0506-48f5-a8d3-1fe6acfea7f3"
      },
      "execution_count": null,
      "outputs": [
        {
          "output_type": "stream",
          "name": "stdout",
          "text": [
            "{'I': 2, 'n': 2, 't': 2, 'e': 2, 'l': 2, 'i': 1, 'g': 1, ' ': 1, 'A': 1}\n"
          ]
        }
      ]
    },
    {
      "cell_type": "markdown",
      "source": [
        "##6.6. Buatlah sebuah fungsi dengan nama show_employee()"
      ],
      "metadata": {
        "id": "L9sOOeEOzR0G"
      }
    },
    {
      "cell_type": "code",
      "source": [
        "def show_employee(name, salary=2000000):\n",
        "  print(f\"Name: {name}, salary: {salary}\")\n",
        "\n",
        "#ketika penulisan gaji di tulis\n",
        "employee_1 = show_employee(\"Lala\", 5000000)\n",
        "print(employee_1)\n",
        "#ketika penulisan gaji tidak ditulis\n",
        "employee_2 = show_employee(\"Nana\")\n",
        "print(employee_2)"
      ],
      "metadata": {
        "colab": {
          "base_uri": "https://localhost:8080/"
        },
        "id": "rZJW1v23zVPx",
        "outputId": "fb3e3f0e-715f-4718-cc2f-b199179d4ea3"
      },
      "execution_count": null,
      "outputs": [
        {
          "output_type": "stream",
          "name": "stdout",
          "text": [
            "Name: Lala, salary: 5000000\n",
            "None\n",
            "Name: Nana, salary: 2000000\n",
            "None\n"
          ]
        }
      ]
    }
  ]
}